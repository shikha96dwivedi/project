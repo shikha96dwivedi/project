{
  "nbformat": 4,
  "nbformat_minor": 0,
  "metadata": {
    "colab": {
      "name": "Spam project (DL)",
      "provenance": [],
      "collapsed_sections": [],
      "machine_shape": "hm"
    },
    "kernelspec": {
      "name": "python3",
      "display_name": "Python 3"
    },
    "accelerator": "TPU"
  },
  "cells": [
    {
      "cell_type": "code",
      "metadata": {
        "id": "mshXoMLVQX4_",
        "colab_type": "code",
        "outputId": "4f7595ae-9e45-4110-e807-3b24d65d9b9c",
        "colab": {
          "base_uri": "https://localhost:8080/",
          "height": 79
        }
      },
      "source": [
        "import warnings\n",
        "warnings.filterwarnings('ignore')\n",
        "import pandas as pd\n",
        "import numpy as np\n",
        "\n",
        "from keras.models import Sequential\n",
        "#from keras.layers.recurrent import LSTM,GRU\n",
        "#from keras.layers.core import Dense, Activation, Dropout\n",
        "from sklearn.metrics import roc_auc_score, accuracy_score\n",
        "#from sklearn.utils import shuffle\n",
        "from keras.callbacks import ModelCheckpoint\n",
        "from keras.callbacks import EarlyStopping\n",
        "from keras import models\n",
        "from keras.models import load_model\n",
        "\n",
        "from keras.preprocessing.text import Tokenizer\n",
        "from keras.preprocessing import sequence\n",
        "from keras.layers import LSTM, Activation, Dense, Input, Embedding, Dropout\n",
        "from keras.models import Model\n",
        "from nltk import word_tokenize\n",
        "\n",
        "from sklearn.model_selection import train_test_split\n",
        "from sklearn.utils import class_weight"
      ],
      "execution_count": 1,
      "outputs": [
        {
          "output_type": "stream",
          "text": [
            "Using TensorFlow backend.\n"
          ],
          "name": "stderr"
        },
        {
          "output_type": "display_data",
          "data": {
            "text/html": [
              "<p style=\"color: red;\">\n",
              "The default version of TensorFlow in Colab will soon switch to TensorFlow 2.x.<br>\n",
              "We recommend you <a href=\"https://www.tensorflow.org/guide/migrate\" target=\"_blank\">upgrade</a> now \n",
              "or ensure your notebook will continue to use TensorFlow 1.x via the <code>%tensorflow_version 1.x</code> magic:\n",
              "<a href=\"https://colab.research.google.com/notebooks/tensorflow_version.ipynb\" target=\"_blank\">more info</a>.</p>\n"
            ],
            "text/plain": [
              "<IPython.core.display.HTML object>"
            ]
          },
          "metadata": {
            "tags": []
          }
        }
      ]
    },
    {
      "cell_type": "code",
      "metadata": {
        "id": "Xnqs-7FPQhbW",
        "colab_type": "code",
        "outputId": "d9da783e-3f10-42e4-c579-08d19b0d1d14",
        "colab": {
          "base_uri": "https://localhost:8080/",
          "height": 371
        }
      },
      "source": [
        "!wget https://www.dropbox.com/sh/kpf9z73woodfssv/AAAwZ5DDt-aHwqZFHYrZ-ZBHa/train.csv?dl=0"
      ],
      "execution_count": 2,
      "outputs": [
        {
          "output_type": "stream",
          "text": [
            "--2020-03-06 04:28:19--  https://www.dropbox.com/sh/kpf9z73woodfssv/AAAwZ5DDt-aHwqZFHYrZ-ZBHa/train.csv?dl=0\n",
            "Resolving www.dropbox.com (www.dropbox.com)... 162.125.8.1, 2620:100:601b:1::a27d:801\n",
            "Connecting to www.dropbox.com (www.dropbox.com)|162.125.8.1|:443... connected.\n",
            "HTTP request sent, awaiting response... 301 Moved Permanently\n",
            "Location: /sh/raw/kpf9z73woodfssv/AAAwZ5DDt-aHwqZFHYrZ-ZBHa/train.csv [following]\n",
            "--2020-03-06 04:28:20--  https://www.dropbox.com/sh/raw/kpf9z73woodfssv/AAAwZ5DDt-aHwqZFHYrZ-ZBHa/train.csv\n",
            "Reusing existing connection to www.dropbox.com:443.\n",
            "HTTP request sent, awaiting response... 302 Found\n",
            "Location: https://uc7d498a063b001bac8c5ef0d8a0.dl.dropboxusercontent.com/cd/0/inline/AzZ4Mnd8Varfrk8BhkHuqqaKBz-iTalZnd2VqHznE8YZt_eQu6G8lz1Ivz5LNg5mw42e9Lpj9HG-d5DzvUAWDOK-Jz6hYFgQ5FTCf8ZVlt3j3A/file# [following]\n",
            "--2020-03-06 04:28:20--  https://uc7d498a063b001bac8c5ef0d8a0.dl.dropboxusercontent.com/cd/0/inline/AzZ4Mnd8Varfrk8BhkHuqqaKBz-iTalZnd2VqHznE8YZt_eQu6G8lz1Ivz5LNg5mw42e9Lpj9HG-d5DzvUAWDOK-Jz6hYFgQ5FTCf8ZVlt3j3A/file\n",
            "Resolving uc7d498a063b001bac8c5ef0d8a0.dl.dropboxusercontent.com (uc7d498a063b001bac8c5ef0d8a0.dl.dropboxusercontent.com)... 162.125.8.6, 2620:100:601b:6::a27d:806\n",
            "Connecting to uc7d498a063b001bac8c5ef0d8a0.dl.dropboxusercontent.com (uc7d498a063b001bac8c5ef0d8a0.dl.dropboxusercontent.com)|162.125.8.6|:443... connected.\n",
            "HTTP request sent, awaiting response... 200 OK\n",
            "Length: 124206772 (118M) [text/plain]\n",
            "Saving to: ‘train.csv?dl=0’\n",
            "\n",
            "train.csv?dl=0      100%[===================>] 118.45M  47.9MB/s    in 2.5s    \n",
            "\n",
            "2020-03-06 04:28:23 (47.9 MB/s) - ‘train.csv?dl=0’ saved [124206772/124206772]\n",
            "\n"
          ],
          "name": "stdout"
        }
      ]
    },
    {
      "cell_type": "code",
      "metadata": {
        "id": "QJnC-WbXQvRM",
        "colab_type": "code",
        "outputId": "ce197a81-203e-4147-b00d-2c53ff49f0fc",
        "colab": {
          "base_uri": "https://localhost:8080/",
          "height": 351
        }
      },
      "source": [
        "!wget http://nlp.stanford.edu/data/glove.42B.300d.zip"
      ],
      "execution_count": 3,
      "outputs": [
        {
          "output_type": "stream",
          "text": [
            "--2020-03-06 04:28:26--  http://nlp.stanford.edu/data/glove.42B.300d.zip\n",
            "Resolving nlp.stanford.edu (nlp.stanford.edu)... 171.64.67.140\n",
            "Connecting to nlp.stanford.edu (nlp.stanford.edu)|171.64.67.140|:80... connected.\n",
            "HTTP request sent, awaiting response... 302 Found\n",
            "Location: https://nlp.stanford.edu/data/glove.42B.300d.zip [following]\n",
            "--2020-03-06 04:28:26--  https://nlp.stanford.edu/data/glove.42B.300d.zip\n",
            "Connecting to nlp.stanford.edu (nlp.stanford.edu)|171.64.67.140|:443... connected.\n",
            "HTTP request sent, awaiting response... 301 Moved Permanently\n",
            "Location: http://downloads.cs.stanford.edu/nlp/data/glove.42B.300d.zip [following]\n",
            "--2020-03-06 04:28:27--  http://downloads.cs.stanford.edu/nlp/data/glove.42B.300d.zip\n",
            "Resolving downloads.cs.stanford.edu (downloads.cs.stanford.edu)... 171.64.64.22\n",
            "Connecting to downloads.cs.stanford.edu (downloads.cs.stanford.edu)|171.64.64.22|:80... connected.\n",
            "HTTP request sent, awaiting response... 200 OK\n",
            "Length: 1877800501 (1.7G) [application/zip]\n",
            "Saving to: ‘glove.42B.300d.zip’\n",
            "\n",
            "glove.42B.300d.zip  100%[===================>]   1.75G  2.02MB/s    in 14m 32s \n",
            "\n",
            "2020-03-06 04:42:59 (2.05 MB/s) - ‘glove.42B.300d.zip’ saved [1877800501/1877800501]\n",
            "\n"
          ],
          "name": "stdout"
        }
      ]
    },
    {
      "cell_type": "code",
      "metadata": {
        "id": "Z--ZwqZvSCN_",
        "colab_type": "code",
        "outputId": "e97aa4b3-9159-4d41-8401-caa631741b9d",
        "colab": {
          "base_uri": "https://localhost:8080/",
          "height": 50
        }
      },
      "source": [
        "!unzip /content/glove.42B.300d.zip"
      ],
      "execution_count": 4,
      "outputs": [
        {
          "output_type": "stream",
          "text": [
            "Archive:  /content/glove.42B.300d.zip\n",
            "  inflating: glove.42B.300d.txt      \n"
          ],
          "name": "stdout"
        }
      ]
    },
    {
      "cell_type": "code",
      "metadata": {
        "id": "EpLCy-eJVYju",
        "colab_type": "code",
        "colab": {}
      },
      "source": [
        "embedding_index ={}\n",
        "\n",
        "f = open('/content/glove.42B.300d.txt', encoding='utf-8')\n",
        "for line in f:\n",
        "  values = line.split()\n",
        "  word = values[0]\n",
        "  coefs = np.asarray(values[1:], dtype ='float32')\n",
        "  embedding_index[word] = coefs\n",
        "f.close()"
      ],
      "execution_count": 0,
      "outputs": []
    },
    {
      "cell_type": "code",
      "metadata": {
        "id": "5thSQ0uWVuK5",
        "colab_type": "code",
        "colab": {}
      },
      "source": [
        "Data = pd.read_csv(r'/content/train.csv?dl=0')"
      ],
      "execution_count": 0,
      "outputs": []
    },
    {
      "cell_type": "code",
      "metadata": {
        "id": "Q-X3v9SuW1Sw",
        "colab_type": "code",
        "outputId": "8d9413e4-71f0-49fc-c50f-5c6363e36d19",
        "colab": {
          "base_uri": "https://localhost:8080/",
          "height": 213
        }
      },
      "source": [
        "print(Data.shape)\n",
        "Data.head()"
      ],
      "execution_count": 7,
      "outputs": [
        {
          "output_type": "stream",
          "text": [
            "(1306122, 3)\n"
          ],
          "name": "stdout"
        },
        {
          "output_type": "execute_result",
          "data": {
            "text/html": [
              "<div>\n",
              "<style scoped>\n",
              "    .dataframe tbody tr th:only-of-type {\n",
              "        vertical-align: middle;\n",
              "    }\n",
              "\n",
              "    .dataframe tbody tr th {\n",
              "        vertical-align: top;\n",
              "    }\n",
              "\n",
              "    .dataframe thead th {\n",
              "        text-align: right;\n",
              "    }\n",
              "</style>\n",
              "<table border=\"1\" class=\"dataframe\">\n",
              "  <thead>\n",
              "    <tr style=\"text-align: right;\">\n",
              "      <th></th>\n",
              "      <th>qid</th>\n",
              "      <th>question_text</th>\n",
              "      <th>target</th>\n",
              "    </tr>\n",
              "  </thead>\n",
              "  <tbody>\n",
              "    <tr>\n",
              "      <th>0</th>\n",
              "      <td>00002165364db923c7e6</td>\n",
              "      <td>How did Quebec nationalists see their province...</td>\n",
              "      <td>0</td>\n",
              "    </tr>\n",
              "    <tr>\n",
              "      <th>1</th>\n",
              "      <td>000032939017120e6e44</td>\n",
              "      <td>Do you have an adopted dog, how would you enco...</td>\n",
              "      <td>0</td>\n",
              "    </tr>\n",
              "    <tr>\n",
              "      <th>2</th>\n",
              "      <td>0000412ca6e4628ce2cf</td>\n",
              "      <td>Why does velocity affect time? Does velocity a...</td>\n",
              "      <td>0</td>\n",
              "    </tr>\n",
              "    <tr>\n",
              "      <th>3</th>\n",
              "      <td>000042bf85aa498cd78e</td>\n",
              "      <td>How did Otto von Guericke used the Magdeburg h...</td>\n",
              "      <td>0</td>\n",
              "    </tr>\n",
              "    <tr>\n",
              "      <th>4</th>\n",
              "      <td>0000455dfa3e01eae3af</td>\n",
              "      <td>Can I convert montra helicon D to a mountain b...</td>\n",
              "      <td>0</td>\n",
              "    </tr>\n",
              "  </tbody>\n",
              "</table>\n",
              "</div>"
            ],
            "text/plain": [
              "                    qid  ... target\n",
              "0  00002165364db923c7e6  ...      0\n",
              "1  000032939017120e6e44  ...      0\n",
              "2  0000412ca6e4628ce2cf  ...      0\n",
              "3  000042bf85aa498cd78e  ...      0\n",
              "4  0000455dfa3e01eae3af  ...      0\n",
              "\n",
              "[5 rows x 3 columns]"
            ]
          },
          "metadata": {
            "tags": []
          },
          "execution_count": 7
        }
      ]
    },
    {
      "cell_type": "code",
      "metadata": {
        "id": "68ko65GbXPQk",
        "colab_type": "code",
        "outputId": "ad31fd89-a674-4276-b6e5-4b79f3f4f41a",
        "colab": {
          "base_uri": "https://localhost:8080/",
          "height": 33
        }
      },
      "source": [
        "X = Data['question_text']\n",
        "Y = Data['target']\n",
        "x_train, x_val, y_train, y_val = train_test_split(X,Y,test_size=0.2)\n",
        "x_train.shape, y_train.shape, x_val.shape, y_val.shape"
      ],
      "execution_count": 8,
      "outputs": [
        {
          "output_type": "execute_result",
          "data": {
            "text/plain": [
              "((1044897,), (1044897,), (261225,), (261225,))"
            ]
          },
          "metadata": {
            "tags": []
          },
          "execution_count": 8
        }
      ]
    },
    {
      "cell_type": "code",
      "metadata": {
        "id": "KWKVz_joXrKC",
        "colab_type": "code",
        "outputId": "d59347cc-aaec-4b5e-dd99-4c0e4aefd7b8",
        "colab": {
          "base_uri": "https://localhost:8080/",
          "height": 67
        }
      },
      "source": [
        "y_val.value_counts()"
      ],
      "execution_count": 9,
      "outputs": [
        {
          "output_type": "execute_result",
          "data": {
            "text/plain": [
              "0    245029\n",
              "1     16196\n",
              "Name: target, dtype: int64"
            ]
          },
          "metadata": {
            "tags": []
          },
          "execution_count": 9
        }
      ]
    },
    {
      "cell_type": "code",
      "metadata": {
        "id": "C1PoYX-YXuvr",
        "colab_type": "code",
        "outputId": "ad07cdde-13eb-4c59-b220-21e547848d0b",
        "colab": {
          "base_uri": "https://localhost:8080/",
          "height": 50
        }
      },
      "source": [
        "class_weight = class_weight.compute_class_weight('balanced', \n",
        "                                                 np.unique(y_train), \n",
        "                                                    y_train)\n",
        "print(class_weight)\n",
        "class_weight_dict = dict(enumerate(class_weight))\n",
        "class_weight_dict"
      ],
      "execution_count": 10,
      "outputs": [
        {
          "output_type": "stream",
          "text": [
            "[0.53295681 8.08568576]\n"
          ],
          "name": "stdout"
        },
        {
          "output_type": "execute_result",
          "data": {
            "text/plain": [
              "{0: 0.5329568094111599, 1: 8.085685764694958}"
            ]
          },
          "metadata": {
            "tags": []
          },
          "execution_count": 10
        }
      ]
    },
    {
      "cell_type": "code",
      "metadata": {
        "id": "hs760sqrZEDM",
        "colab_type": "code",
        "outputId": "ad8153e1-b11a-42b8-b1b8-52da83fd908b",
        "colab": {
          "base_uri": "https://localhost:8080/",
          "height": 217
        }
      },
      "source": [
        "x_train"
      ],
      "execution_count": 11,
      "outputs": [
        {
          "output_type": "execute_result",
          "data": {
            "text/plain": [
              "1151452                   Why are cardinal points important?\n",
              "437557     Can you remove implicit bias from conversation...\n",
              "91095      If your 18 in the army can you have your own p...\n",
              "1289040          What happens if I hire a hitman to kill me?\n",
              "316841                        Was the third reich an empire?\n",
              "                                 ...                        \n",
              "520203      How is double hashing applied in data structure?\n",
              "1046189    How can I ask my doctor about prescribing noot...\n",
              "583744     If I list my small business on Google My Busin...\n",
              "368304     Is it common for men to feel the urge to rape ...\n",
              "1267483    Corporate tax in KPMG, Mumbai or statutory aud...\n",
              "Name: question_text, Length: 1044897, dtype: object"
            ]
          },
          "metadata": {
            "tags": []
          },
          "execution_count": 11
        }
      ]
    },
    {
      "cell_type": "code",
      "metadata": {
        "id": "Gr-qCucRZY9o",
        "colab_type": "code",
        "outputId": "2b34f1ae-fcd9-486f-a786-2c80d7e65aaf",
        "colab": {
          "base_uri": "https://localhost:8080/",
          "height": 67
        }
      },
      "source": [
        "import nltk\n",
        "nltk.download('punkt') "
      ],
      "execution_count": 12,
      "outputs": [
        {
          "output_type": "stream",
          "text": [
            "[nltk_data] Downloading package punkt to /root/nltk_data...\n",
            "[nltk_data]   Unzipping tokenizers/punkt.zip.\n"
          ],
          "name": "stdout"
        },
        {
          "output_type": "execute_result",
          "data": {
            "text/plain": [
              "True"
            ]
          },
          "metadata": {
            "tags": []
          },
          "execution_count": 12
        }
      ]
    },
    {
      "cell_type": "code",
      "metadata": {
        "id": "AtPFnFeNZkt8",
        "colab_type": "code",
        "outputId": "9c664cee-d299-4c5d-cfef-668d5d58beef",
        "colab": {
          "base_uri": "https://localhost:8080/",
          "height": 33
        }
      },
      "source": [
        "sent_lens=[len(word_tokenize(x)) for x in x_train]\n",
        "print(max(sent_lens))"
      ],
      "execution_count": 13,
      "outputs": [
        {
          "output_type": "stream",
          "text": [
            "361\n"
          ],
          "name": "stdout"
        }
      ]
    },
    {
      "cell_type": "code",
      "metadata": {
        "id": "4A6R6_rcZtzo",
        "colab_type": "code",
        "outputId": "5d21dd12-7b3a-48ea-f591-4a728816977b",
        "colab": {
          "base_uri": "https://localhost:8080/",
          "height": 50
        }
      },
      "source": [
        "print(np.percentile(sent_lens,99))\n",
        "np.percentile(sent_lens,95)"
      ],
      "execution_count": 14,
      "outputs": [
        {
          "output_type": "stream",
          "text": [
            "45.0\n"
          ],
          "name": "stdout"
        },
        {
          "output_type": "execute_result",
          "data": {
            "text/plain": [
              "30.0"
            ]
          },
          "metadata": {
            "tags": []
          },
          "execution_count": 14
        }
      ]
    },
    {
      "cell_type": "code",
      "metadata": {
        "id": "27FrW-Ldauxh",
        "colab_type": "code",
        "outputId": "818e93c7-2454-4336-cc23-11f1fa353778",
        "colab": {
          "base_uri": "https://localhost:8080/",
          "height": 33
        }
      },
      "source": [
        "max_len=45\n",
        "\n",
        "tk=Tokenizer(char_level=False,split=' ')\n",
        "tk.fit_on_texts(x_train)\n",
        "print(x_train.shape)"
      ],
      "execution_count": 15,
      "outputs": [
        {
          "output_type": "stream",
          "text": [
            "(1044897,)\n"
          ],
          "name": "stdout"
        }
      ]
    },
    {
      "cell_type": "code",
      "metadata": {
        "id": "MDKWdXspa0r8",
        "colab_type": "code",
        "outputId": "d5a457a5-2000-44ac-9ece-2e4a9e5db4a1",
        "colab": {
          "base_uri": "https://localhost:8080/",
          "height": 50
        }
      },
      "source": [
        "seq_train=tk.texts_to_sequences(x_train)\n",
        "seq_val=tk.texts_to_sequences(x_val)\n",
        "print(len(seq_val), len(seq_train))\n",
        "seq_train[0]"
      ],
      "execution_count": 16,
      "outputs": [
        {
          "output_type": "stream",
          "text": [
            "261225 1044897\n"
          ],
          "name": "stdout"
        },
        {
          "output_type": "execute_result",
          "data": {
            "text/plain": [
              "[16, 12, 15751, 1309, 215]"
            ]
          },
          "metadata": {
            "tags": []
          },
          "execution_count": 16
        }
      ]
    },
    {
      "cell_type": "code",
      "metadata": {
        "id": "Crjdh3ombFND",
        "colab_type": "code",
        "outputId": "bbb51b8d-286f-41cc-b91f-89f4e1bdf0f4",
        "colab": {
          "base_uri": "https://localhost:8080/",
          "height": 33
        }
      },
      "source": [
        "vocab_size=len(tk.word_index)\n",
        "vocab_size"
      ],
      "execution_count": 17,
      "outputs": [
        {
          "output_type": "execute_result",
          "data": {
            "text/plain": [
              "196227"
            ]
          },
          "metadata": {
            "tags": []
          },
          "execution_count": 17
        }
      ]
    },
    {
      "cell_type": "code",
      "metadata": {
        "id": "qq_6h0tOmkd3",
        "colab_type": "code",
        "outputId": "f8f7867d-cb1d-433a-eb99-22894ce68b81",
        "colab": {
          "base_uri": "https://localhost:8080/",
          "height": 33
        }
      },
      "source": [
        "seq_train_matrix=sequence.pad_sequences(seq_train,maxlen=max_len)\n",
        "seq_val_matrix=sequence.pad_sequences(seq_val,maxlen=max_len)\n",
        "seq_train_matrix.shape, seq_val_matrix.shape"
      ],
      "execution_count": 18,
      "outputs": [
        {
          "output_type": "execute_result",
          "data": {
            "text/plain": [
              "((1044897, 45), (261225, 45))"
            ]
          },
          "metadata": {
            "tags": []
          },
          "execution_count": 18
        }
      ]
    },
    {
      "cell_type": "code",
      "metadata": {
        "id": "AwWFzU9Dmugg",
        "colab_type": "code",
        "colab": {}
      },
      "source": [
        "# creating our own embedding matrix to bring down the size to 300\n",
        "# we'll use 300 D vector representation of the words from pretrained embedding index \n",
        "# that we downloaded \n",
        "\n",
        "embedding_matrix=np.zeros((vocab_size+1,300))\n",
        "\n",
        "for word,i in tk.word_index.items():\n",
        "    embed_vector=embedding_index.get(word)\n",
        "    if embed_vector is not None:\n",
        "        embedding_matrix[i]=embed_vector\n",
        "        \n",
        "# if there are specific words which are not present in pretrained embedding \n",
        "# their weights will remain 0. if there are too many such words \n",
        "# then you should probably not use pretrained embeddings "
      ],
      "execution_count": 0,
      "outputs": []
    },
    {
      "cell_type": "code",
      "metadata": {
        "id": "ykpx3dSjm7S6",
        "colab_type": "code",
        "outputId": "d6b8e596-4a05-452a-f227-98d6c8a30078",
        "colab": {
          "base_uri": "https://localhost:8080/",
          "height": 472
        }
      },
      "source": [
        "# Now while creating the model for text data , we'll keep embedding layer weights \n",
        "# non-trainable as we are supplying those values from our end \n",
        "\n",
        "inputs = Input(name='text_input',shape=[max_len])\n",
        "embed=Embedding(vocab_size+1,300,input_length=max_len,mask_zero=True,\n",
        "                weights=[embedding_matrix],trainable=False)(inputs)\n",
        "layer1 = LSTM(512)(embed)\n",
        "drop1 = Dropout(0.2)(layer1)\n",
        "layer2 = Dense(256,activation='relu')(drop1)\n",
        "drop2 = Dropout(0.2)(layer2)\n",
        "layer3 = Dense(128,activation='relu')(drop2)\n",
        "drop3 = Dropout(0.2)(layer3)\n",
        "dense1 = Dense(25,activation='relu')(layer3)\n",
        "drop4 = Dropout(0.2)(dense1)\n",
        "final_layer = Dense(1,activation='sigmoid')(drop4)\n",
        "\n",
        "model = Model(inputs=inputs,outputs=final_layer)"
      ],
      "execution_count": 20,
      "outputs": [
        {
          "output_type": "stream",
          "text": [
            "WARNING:tensorflow:From /usr/local/lib/python3.6/dist-packages/keras/backend/tensorflow_backend.py:541: The name tf.placeholder is deprecated. Please use tf.compat.v1.placeholder instead.\n",
            "\n",
            "WARNING:tensorflow:From /usr/local/lib/python3.6/dist-packages/keras/backend/tensorflow_backend.py:66: The name tf.get_default_graph is deprecated. Please use tf.compat.v1.get_default_graph instead.\n",
            "\n",
            "WARNING:tensorflow:From /usr/local/lib/python3.6/dist-packages/keras/backend/tensorflow_backend.py:4432: The name tf.random_uniform is deprecated. Please use tf.random.uniform instead.\n",
            "\n",
            "WARNING:tensorflow:From /usr/local/lib/python3.6/dist-packages/keras/backend/tensorflow_backend.py:190: The name tf.get_default_session is deprecated. Please use tf.compat.v1.get_default_session instead.\n",
            "\n",
            "WARNING:tensorflow:From /usr/local/lib/python3.6/dist-packages/keras/backend/tensorflow_backend.py:197: The name tf.ConfigProto is deprecated. Please use tf.compat.v1.ConfigProto instead.\n",
            "\n",
            "WARNING:tensorflow:From /usr/local/lib/python3.6/dist-packages/keras/backend/tensorflow_backend.py:203: The name tf.Session is deprecated. Please use tf.compat.v1.Session instead.\n",
            "\n",
            "WARNING:tensorflow:From /usr/local/lib/python3.6/dist-packages/keras/backend/tensorflow_backend.py:207: The name tf.global_variables is deprecated. Please use tf.compat.v1.global_variables instead.\n",
            "\n",
            "WARNING:tensorflow:From /usr/local/lib/python3.6/dist-packages/keras/backend/tensorflow_backend.py:216: The name tf.is_variable_initialized is deprecated. Please use tf.compat.v1.is_variable_initialized instead.\n",
            "\n",
            "WARNING:tensorflow:From /usr/local/lib/python3.6/dist-packages/keras/backend/tensorflow_backend.py:223: The name tf.variables_initializer is deprecated. Please use tf.compat.v1.variables_initializer instead.\n",
            "\n",
            "WARNING:tensorflow:From /usr/local/lib/python3.6/dist-packages/keras/backend/tensorflow_backend.py:3239: where (from tensorflow.python.ops.array_ops) is deprecated and will be removed in a future version.\n",
            "Instructions for updating:\n",
            "Use tf.where in 2.0, which has the same broadcast rule as np.where\n",
            "WARNING:tensorflow:From /usr/local/lib/python3.6/dist-packages/keras/backend/tensorflow_backend.py:148: The name tf.placeholder_with_default is deprecated. Please use tf.compat.v1.placeholder_with_default instead.\n",
            "\n",
            "WARNING:tensorflow:From /usr/local/lib/python3.6/dist-packages/keras/backend/tensorflow_backend.py:3733: calling dropout (from tensorflow.python.ops.nn_ops) with keep_prob is deprecated and will be removed in a future version.\n",
            "Instructions for updating:\n",
            "Please use `rate` instead of `keep_prob`. Rate should be set to `rate = 1 - keep_prob`.\n"
          ],
          "name": "stdout"
        }
      ]
    },
    {
      "cell_type": "code",
      "metadata": {
        "id": "ZuM36hjKnPRj",
        "colab_type": "code",
        "outputId": "60accb07-c6e0-40f4-d8bf-ac6ebb5910b5",
        "colab": {
          "base_uri": "https://localhost:8080/",
          "height": 485
        }
      },
      "source": [
        "model.summary()"
      ],
      "execution_count": 21,
      "outputs": [
        {
          "output_type": "stream",
          "text": [
            "Model: \"model_1\"\n",
            "_________________________________________________________________\n",
            "Layer (type)                 Output Shape              Param #   \n",
            "=================================================================\n",
            "text_input (InputLayer)      (None, 45)                0         \n",
            "_________________________________________________________________\n",
            "embedding_1 (Embedding)      (None, 45, 300)           58868400  \n",
            "_________________________________________________________________\n",
            "lstm_1 (LSTM)                (None, 512)               1665024   \n",
            "_________________________________________________________________\n",
            "dropout_1 (Dropout)          (None, 512)               0         \n",
            "_________________________________________________________________\n",
            "dense_1 (Dense)              (None, 256)               131328    \n",
            "_________________________________________________________________\n",
            "dropout_2 (Dropout)          (None, 256)               0         \n",
            "_________________________________________________________________\n",
            "dense_2 (Dense)              (None, 128)               32896     \n",
            "_________________________________________________________________\n",
            "dense_3 (Dense)              (None, 25)                3225      \n",
            "_________________________________________________________________\n",
            "dropout_4 (Dropout)          (None, 25)                0         \n",
            "_________________________________________________________________\n",
            "dense_4 (Dense)              (None, 1)                 26        \n",
            "=================================================================\n",
            "Total params: 60,700,899\n",
            "Trainable params: 1,832,499\n",
            "Non-trainable params: 58,868,400\n",
            "_________________________________________________________________\n"
          ],
          "name": "stdout"
        }
      ]
    },
    {
      "cell_type": "code",
      "metadata": {
        "id": "kiWKCNd5nWgC",
        "colab_type": "code",
        "colab": {}
      },
      "source": [
        "filepath='/content/weights-{epoch:02d}-{val_loss:.4f}.h5'\n",
        "checkpoint = ModelCheckpoint(filepath, monitor='val_loss', verbose=1, \n",
        "                             save_best_only=True)"
      ],
      "execution_count": 0,
      "outputs": []
    },
    {
      "cell_type": "code",
      "metadata": {
        "id": "toz3bGShnnE-",
        "colab_type": "code",
        "colab": {}
      },
      "source": [
        "earlystop = EarlyStopping(monitor='val_loss', patience=3,\n",
        "                          verbose=1)"
      ],
      "execution_count": 0,
      "outputs": []
    },
    {
      "cell_type": "code",
      "metadata": {
        "id": "kmjLZV-gnr_P",
        "colab_type": "code",
        "outputId": "522bf446-9f58-48d9-d37a-67246d782f35",
        "colab": {
          "base_uri": "https://localhost:8080/",
          "height": 104
        }
      },
      "source": [
        "model.compile(optimizer='adam',loss='binary_crossentropy',metrics=['accuracy'])"
      ],
      "execution_count": 24,
      "outputs": [
        {
          "output_type": "stream",
          "text": [
            "WARNING:tensorflow:From /usr/local/lib/python3.6/dist-packages/keras/optimizers.py:793: The name tf.train.Optimizer is deprecated. Please use tf.compat.v1.train.Optimizer instead.\n",
            "\n",
            "WARNING:tensorflow:From /usr/local/lib/python3.6/dist-packages/keras/backend/tensorflow_backend.py:3657: The name tf.log is deprecated. Please use tf.math.log instead.\n",
            "\n"
          ],
          "name": "stdout"
        }
      ]
    },
    {
      "cell_type": "code",
      "metadata": {
        "id": "iw0rNtUBnwzF",
        "colab_type": "code",
        "outputId": "7b7a338f-6c87-4411-f6bf-9116a1bbbeee",
        "colab": {
          "base_uri": "https://localhost:8080/",
          "height": 421
        }
      },
      "source": [
        "model.fit(seq_train_matrix,y_train,\n",
        "              epochs=10,\n",
        "              class_weight={0: 0.5328573351855138, 1: 8.108651115146436},\n",
        "              batch_size=10000,\n",
        "              validation_data=(seq_val_matrix,y_val),\n",
        "              callbacks = [earlystop, checkpoint])"
      ],
      "execution_count": 25,
      "outputs": [
        {
          "output_type": "stream",
          "text": [
            "WARNING:tensorflow:From /usr/local/lib/python3.6/dist-packages/keras/backend/tensorflow_backend.py:1033: The name tf.assign_add is deprecated. Please use tf.compat.v1.assign_add instead.\n",
            "\n",
            "WARNING:tensorflow:From /usr/local/lib/python3.6/dist-packages/keras/backend/tensorflow_backend.py:1020: The name tf.assign is deprecated. Please use tf.compat.v1.assign instead.\n",
            "\n",
            "Train on 1044897 samples, validate on 261225 samples\n",
            "Epoch 1/10\n",
            "1044897/1044897 [==============================] - 782s 749us/step - loss: 0.3446 - acc: 0.8419 - val_loss: 0.2354 - val_acc: 0.9018\n",
            "\n",
            "Epoch 00001: val_loss improved from inf to 0.23541, saving model to /content/weights-01-0.2354.h5\n",
            "Epoch 2/10\n",
            "1044897/1044897 [==============================] - 763s 730us/step - loss: 0.2844 - acc: 0.8797 - val_loss: 0.2950 - val_acc: 0.8782\n",
            "\n",
            "Epoch 00002: val_loss did not improve from 0.23541\n",
            "Epoch 3/10\n",
            "1044897/1044897 [==============================] - 751s 719us/step - loss: 0.2641 - acc: 0.8888 - val_loss: 0.2462 - val_acc: 0.8943\n",
            "\n",
            "Epoch 00003: val_loss did not improve from 0.23541\n",
            "Epoch 4/10\n",
            "1044897/1044897 [==============================] - 771s 738us/step - loss: 0.2493 - acc: 0.8944 - val_loss: 0.2878 - val_acc: 0.8797\n",
            "\n",
            "Epoch 00004: val_loss did not improve from 0.23541\n",
            "Epoch 00004: early stopping\n"
          ],
          "name": "stdout"
        },
        {
          "output_type": "execute_result",
          "data": {
            "text/plain": [
              "<keras.callbacks.History at 0x7f979d6cfc18>"
            ]
          },
          "metadata": {
            "tags": []
          },
          "execution_count": 25
        }
      ]
    },
    {
      "cell_type": "code",
      "metadata": {
        "id": "MMgFiLPmn9kn",
        "colab_type": "code",
        "colab": {}
      },
      "source": [
        "best_model = load_model('/content/weights-01-0.2354.h5')"
      ],
      "execution_count": 0,
      "outputs": []
    },
    {
      "cell_type": "code",
      "metadata": {
        "id": "I1VbyD1voFgP",
        "colab_type": "code",
        "colab": {
          "base_uri": "https://localhost:8080/",
          "height": 485
        },
        "outputId": "7e2c26af-0a62-4020-dfd3-ff4c03cb99af"
      },
      "source": [
        "best_model.summary()"
      ],
      "execution_count": 28,
      "outputs": [
        {
          "output_type": "stream",
          "text": [
            "Model: \"model_1\"\n",
            "_________________________________________________________________\n",
            "Layer (type)                 Output Shape              Param #   \n",
            "=================================================================\n",
            "text_input (InputLayer)      (None, 45)                0         \n",
            "_________________________________________________________________\n",
            "embedding_1 (Embedding)      (None, 45, 300)           58868400  \n",
            "_________________________________________________________________\n",
            "lstm_1 (LSTM)                (None, 512)               1665024   \n",
            "_________________________________________________________________\n",
            "dropout_1 (Dropout)          (None, 512)               0         \n",
            "_________________________________________________________________\n",
            "dense_1 (Dense)              (None, 256)               131328    \n",
            "_________________________________________________________________\n",
            "dropout_2 (Dropout)          (None, 256)               0         \n",
            "_________________________________________________________________\n",
            "dense_2 (Dense)              (None, 128)               32896     \n",
            "_________________________________________________________________\n",
            "dense_3 (Dense)              (None, 25)                3225      \n",
            "_________________________________________________________________\n",
            "dropout_4 (Dropout)          (None, 25)                0         \n",
            "_________________________________________________________________\n",
            "dense_4 (Dense)              (None, 1)                 26        \n",
            "=================================================================\n",
            "Total params: 60,700,899\n",
            "Trainable params: 1,832,499\n",
            "Non-trainable params: 58,868,400\n",
            "_________________________________________________________________\n"
          ],
          "name": "stdout"
        }
      ]
    },
    {
      "cell_type": "code",
      "metadata": {
        "id": "lLzDET-OaSqU",
        "colab_type": "code",
        "colab": {
          "base_uri": "https://localhost:8080/",
          "height": 33
        },
        "outputId": "e636a6ee-2955-4d42-ca9d-7f174df096f9"
      },
      "source": [
        "p = best_model.predict(seq_val_matrix)\n",
        "roc_auc_score(y_val,p)"
      ],
      "execution_count": 30,
      "outputs": [
        {
          "output_type": "execute_result",
          "data": {
            "text/plain": [
              "0.9463256273894851"
            ]
          },
          "metadata": {
            "tags": []
          },
          "execution_count": 30
        }
      ]
    },
    {
      "cell_type": "code",
      "metadata": {
        "id": "xEtBqYeVab11",
        "colab_type": "code",
        "colab": {
          "base_uri": "https://localhost:8080/",
          "height": 134
        },
        "outputId": "152c2f10-ab9a-45eb-f604-b280fc16f755"
      },
      "source": [
        "p"
      ],
      "execution_count": 31,
      "outputs": [
        {
          "output_type": "execute_result",
          "data": {
            "text/plain": [
              "array([[0.0131745 ],\n",
              "       [0.02104914],\n",
              "       [0.051907  ],\n",
              "       ...,\n",
              "       [0.21765044],\n",
              "       [0.06342798],\n",
              "       [0.01940106]], dtype=float32)"
            ]
          },
          "metadata": {
            "tags": []
          },
          "execution_count": 31
        }
      ]
    },
    {
      "cell_type": "code",
      "metadata": {
        "id": "AyyzS5D6dWMC",
        "colab_type": "code",
        "colab": {}
      },
      "source": [
        ""
      ],
      "execution_count": 0,
      "outputs": []
    }
  ]
}